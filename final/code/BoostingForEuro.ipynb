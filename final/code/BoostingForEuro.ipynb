{
 "cells": [
  {
   "cell_type": "code",
   "execution_count": 1,
   "metadata": {},
   "outputs": [
    {
     "name": "stderr",
     "output_type": "stream",
     "text": [
      "/Users/chithrabhat/anaconda/lib/python2.7/site-packages/sklearn/cross_validation.py:41: DeprecationWarning: This module was deprecated in version 0.18 in favor of the model_selection module into which all the refactored classes and functions are moved. Also note that the interface of the new CV iterators are different from that of this module. This module will be removed in 0.20.\n",
      "  \"This module will be removed in 0.20.\", DeprecationWarning)\n"
     ]
    }
   ],
   "source": [
    "import pandas as pd\n",
    "import numpy as np\n",
    "import graphviz\n",
    "from sklearn import tree\n",
    "from xgboost import XGBClassifier, plot_tree\n",
    "from sklearn.model_selection import GridSearchCV\n",
    "from sklearn.linear_model import LogisticRegression\n",
    "from sklearn.naive_bayes import BernoulliNB\n",
    "from sklearn.svm import SVC\n",
    "from sklearn.model_selection import train_test_split\n",
    "from sklearn.metrics import accuracy_score, classification_report\n",
    "from sklearn.tree import DecisionTreeClassifier\n",
    "from sklearn.ensemble import AdaBoostClassifier, GradientBoostingClassifier, VotingClassifier\n",
    "from sklearn.metrics import confusion_matrix\n",
    "from sklearn.preprocessing import StandardScaler\n",
    "import seaborn as sns\n",
    "import warnings\n",
    "warnings.filterwarnings('ignore',category=DeprecationWarning)\n",
    "import matplotlib.pyplot as plt\n",
    "from matplotlib.pyplot import rcParams"
   ]
  },
  {
   "cell_type": "code",
   "execution_count": 2,
   "metadata": {
    "collapsed": true
   },
   "outputs": [],
   "source": [
    "location_Euro = \"/Users/chithrabhat/Desktop/SFU/Machine Learning/Project/EURO_Dataset.csv\"\n",
    "euro_data = pd.read_csv(location_Euro)\n",
    "df_predictor_euro = euro_data['num']\n",
    "unused_cols = ['num', 'id','ccf','smoke', 'cigs','years','famhist','dummy','ca',\n",
    "                'restckm','exerckm','restef','restwm','exeref','exerwm',\n",
    "               'thalsev','thalpul','earlobe', 'lmt','ladprox',\n",
    "               'laddist','diag','cxmain','ramus','om1','om2','rcaprox',\n",
    "               'rcadist','lvx1', 'lvx2','lvx3','lvx4',\n",
    "               'lvf','cathef','junk']"
   ]
  },
  {
   "cell_type": "code",
   "execution_count": 3,
   "metadata": {
    "collapsed": true
   },
   "outputs": [],
   "source": [
    "euro_data.drop(unused_cols, axis = 1,inplace = True)"
   ]
  },
  {
   "cell_type": "code",
   "execution_count": 4,
   "metadata": {
    "collapsed": true
   },
   "outputs": [],
   "source": [
    "data_processed_euro = pd.get_dummies(euro_data, columns=['cp', 'restecg','slope','thal','loc'])\n",
    "scaler_euro = StandardScaler() \n",
    "scaler_euro.fit_transform(data_processed_euro)\n",
    "condition_euro = df_predictor_euro == 0\n",
    "data_processed_euro['target'] = np.where(condition_euro, 0 , 1)"
   ]
  },
  {
   "cell_type": "code",
   "execution_count": 5,
   "metadata": {},
   "outputs": [
    {
     "name": "stderr",
     "output_type": "stream",
     "text": [
      "/Users/chithrabhat/anaconda/lib/python2.7/site-packages/sklearn/model_selection/_split.py:2026: FutureWarning: From version 0.21, test_size will always complement train_size unless both are specified.\n",
      "  FutureWarning)\n"
     ]
    }
   ],
   "source": [
    "data_euro = data_processed_euro.as_matrix()\n",
    "train_x_euro, test_x_euro, train_y_euro, test_y_euro = train_test_split(data_euro[:, 0:-1], data_euro[:,-1],\n",
    "                                                        train_size=0.7)"
   ]
  },
  {
   "cell_type": "code",
   "execution_count": 6,
   "metadata": {
    "collapsed": true
   },
   "outputs": [],
   "source": [
    "decision = DecisionTreeClassifier(min_samples_split= 20, max_leaf_nodes= 25, min_weight_fraction_leaf=0.35, max_depth =8, min_samples_leaf= 25)\n",
    "decision_model = decision.fit(train_x_euro,train_y_euro)\n",
    "boost = AdaBoostClassifier(n_estimators=100,base_estimator = decision, learning_rate=0.1)\n",
    "boost_model = boost.fit(train_x_euro,train_y_euro)\n",
    "gradient = GradientBoostingClassifier(learning_rate=0.09, n_estimators=100, max_depth=3, min_samples_leaf=5,subsample=0.9)\n",
    "gradient_model = gradient.fit(train_x_euro,train_y_euro)\n",
    "xgb = XGBClassifier(n_estimators=100, learning_rate=0.09,max_depth=3,subsample=0.9)\n",
    "xgb_model = xgb.fit(train_x_euro,train_y_euro)"
   ]
  },
  {
   "cell_type": "code",
   "execution_count": 7,
   "metadata": {},
   "outputs": [
    {
     "name": "stdout",
     "output_type": "stream",
     "text": [
      "('Training Set Accuracy:', 80.06872852233677)\n",
      "('Decision Tree Accuracy:', 79.365079365079367)\n"
     ]
    }
   ],
   "source": [
    "print(\"Training Set Accuracy:\", (decision.score(train_x_euro,train_y_euro))*100)\n",
    "decision_predictions = decision_model.predict(test_x_euro)\n",
    "decision_accuracy = accuracy_score(test_y_euro, decision_predictions)\n",
    "print(\"Decision Tree Accuracy:\" , decision_accuracy*100)"
   ]
  },
  {
   "cell_type": "code",
   "execution_count": 8,
   "metadata": {},
   "outputs": [
    {
     "name": "stdout",
     "output_type": "stream",
     "text": [
      "('Training Set Accuracy:', 84.536082474226802)\n",
      "('Adaptive Boosting Classifier Accuracy:', 80.952380952380949)\n"
     ]
    }
   ],
   "source": [
    "print(\"Training Set Accuracy:\", (boost.score(train_x_euro,train_y_euro))*100)\n",
    "boost_predictions = boost_model.predict(test_x_euro)\n",
    "boost_accuracy = accuracy_score(test_y_euro, boost_predictions)\n",
    "print(\"Adaptive Boosting Classifier Accuracy:\" , boost_accuracy*100)"
   ]
  },
  {
   "cell_type": "code",
   "execution_count": 9,
   "metadata": {},
   "outputs": [
    {
     "name": "stdout",
     "output_type": "stream",
     "text": [
      "('Training Set Accuracy:', 100.0)\n",
      "('Gradient Tree Boosting Classifier Accuracy:', 85.714285714285708)\n"
     ]
    }
   ],
   "source": [
    "print(\"Training Set Accuracy:\", (gradient.score(train_x_euro,train_y_euro))*100)\n",
    "gradient_predictions = gradient_model.predict(test_x_euro)\n",
    "gradient_accuracy = accuracy_score(test_y_euro, gradient_predictions)\n",
    "print(\"Gradient Tree Boosting Classifier Accuracy:\" , gradient_accuracy*100)"
   ]
  },
  {
   "cell_type": "code",
   "execution_count": 10,
   "metadata": {},
   "outputs": [
    {
     "name": "stdout",
     "output_type": "stream",
     "text": [
      "('Training Set Accuracy:', 98.969072164948457)\n",
      "('Extreme Boosting Classifier Accuracy:', 85.714285714285708)\n"
     ]
    }
   ],
   "source": [
    "print(\"Training Set Accuracy:\", (xgb.score(train_x_euro,train_y_euro))*100)\n",
    "xgb_predictions = xgb_model.predict(test_x_euro)\n",
    "xgb_accuracy = accuracy_score(test_y_euro, xgb_predictions)\n",
    "print(\"Extreme Boosting Classifier Accuracy:\" , gradient_accuracy*100)"
   ]
  },
  {
   "cell_type": "code",
   "execution_count": 11,
   "metadata": {},
   "outputs": [
    {
     "data": {
      "image/png": "[encoded data removed]",
      "text/plain": [
       "<matplotlib.figure.Figure at 0x1a0a8c4ad0>"
      ]
     },
     "metadata": {},
     "output_type": "display_data"
    }
   ],
   "source": [
    "predictors = [x for x in data_processed_euro.columns if x not in ['target']]\n",
    "feat_imp = pd.Series(xgb_model.feature_importances_, predictors).sort_values(ascending=False)\n",
    "feat_imp = feat_imp.nlargest(15)\n",
    "feat_imp.plot(kind='bar', title='Feature Importances')\n",
    "plt.ylabel('Feature Importance Score')\n",
    "plt.show()"
   ]
  },
  {
   "cell_type": "code",
   "execution_count": 12,
   "metadata": {},
   "outputs": [
    {
     "data": {
      "image/png": "[encoded data removed]",
      "text/plain": [
       "<matplotlib.figure.Figure at 0x1a0fab0a10>"
      ]
     },
     "metadata": {},
     "output_type": "display_data"
    }
   ],
   "source": [
    "decision_cm = pd.DataFrame(confusion_matrix(test_y_euro, decision_predictions), columns = [0 ,1], index = [0,1])\n",
    "sns.heatmap(decision_cm, annot=True)\n",
    "plt.show()"
   ]
  },
  {
   "cell_type": "code",
   "execution_count": 13,
   "metadata": {},
   "outputs": [
    {
     "name": "stdout",
     "output_type": "stream",
     "text": [
      "('Sensitivity : ', 0.84848484848484851)\n",
      "('Specificity : ', 0.73333333333333328)\n"
     ]
    }
   ],
   "source": [
    "TP = decision_cm[1][1]\n",
    "TN = decision_cm[0][0]\n",
    "FP = decision_cm[0][1]\n",
    "FN = decision_cm[1][0]\n",
    "sensitivity = TP/float(TP+FN)\n",
    "specificity = TN/float(TN+FP)\n",
    "print(\"Sensitivity : \",sensitivity)\n",
    "print(\"Specificity : \",specificity)"
   ]
  },
  {
   "cell_type": "code",
   "execution_count": 14,
   "metadata": {},
   "outputs": [
    {
     "data": {
      "image/png": "[encoded data removed]",
      "text/plain": [
       "<matplotlib.figure.Figure at 0x1a12e05090>"
      ]
     },
     "metadata": {},
     "output_type": "display_data"
    }
   ],
   "source": [
    "boost_cm = pd.DataFrame(confusion_matrix(test_y_euro, boost_predictions), columns = [0 ,1], index = [0,1])\n",
    "sns.heatmap(boost_cm, annot=True)\n",
    "plt.show()"
   ]
  },
  {
   "cell_type": "code",
   "execution_count": 15,
   "metadata": {},
   "outputs": [
    {
     "name": "stdout",
     "output_type": "stream",
     "text": [
      "('Sensitivity : ', 0.84285714285714286)\n",
      "('Specificity : ', 0.7678571428571429)\n"
     ]
    }
   ],
   "source": [
    "TP = boost_cm[1][1]\n",
    "TN = boost_cm[0][0]\n",
    "FP = boost_cm[0][1]\n",
    "FN = boost_cm[1][0]\n",
    "sensitivity = TP/float(TP+FN)\n",
    "specificity = TN/float(TN+FP)\n",
    "print(\"Sensitivity : \",sensitivity)\n",
    "print(\"Specificity : \",specificity)"
   ]
  },
  {
   "cell_type": "code",
   "execution_count": 16,
   "metadata": {},
   "outputs": [
    {
     "data": {
      "image/png": "[encoded data removed]",
      "text/plain": [
       "<matplotlib.figure.Figure at 0x1a12e938d0>"
      ]
     },
     "metadata": {},
     "output_type": "display_data"
    }
   ],
   "source": [
    "gradient_cm = pd.DataFrame(confusion_matrix(test_y_euro, gradient_predictions), columns = [0 ,1], index = [0,1])\n",
    "sns.heatmap(gradient_cm, annot=True)\n",
    "plt.show()"
   ]
  },
  {
   "cell_type": "code",
   "execution_count": 17,
   "metadata": {},
   "outputs": [
    {
     "name": "stdout",
     "output_type": "stream",
     "text": [
      "('Sensitivity : ', 0.90909090909090906)\n",
      "('Specificity : ', 0.80000000000000004)\n"
     ]
    }
   ],
   "source": [
    "TP = gradient_cm[1][1]\n",
    "TN = gradient_cm[0][0]\n",
    "FP = gradient_cm[0][1]\n",
    "FN = gradient_cm[1][0]\n",
    "sensitivity = TP/float(TP+FN)\n",
    "specificity = TN/float(TN+FP)\n",
    "print(\"Sensitivity : \",sensitivity)\n",
    "print(\"Specificity : \",specificity)"
   ]
  },
  {
   "cell_type": "code",
   "execution_count": 18,
   "metadata": {},
   "outputs": [
    {
     "data": {
      "image/png": "[encoded data removed]",
      "text/plain": [
       "<matplotlib.figure.Figure at 0x1a1302d490>"
      ]
     },
     "metadata": {},
     "output_type": "display_data"
    }
   ],
   "source": [
    "xgb_cm = pd.DataFrame(confusion_matrix(test_y_euro, xgb_predictions), columns = [0 ,1], index = [0,1])\n",
    "sns.heatmap(xgb_cm, annot=True)\n",
    "plt.show()"
   ]
  },
  {
   "cell_type": "code",
   "execution_count": 19,
   "metadata": {},
   "outputs": [
    {
     "name": "stdout",
     "output_type": "stream",
     "text": [
      "('Sensitivity : ', 0.90909090909090906)\n",
      "('Specificity : ', 0.80000000000000004)\n"
     ]
    }
   ],
   "source": [
    "TP = xgb_cm[1][1]\n",
    "TN = xgb_cm[0][0]\n",
    "FP = xgb_cm[0][1]\n",
    "FN = xgb_cm[1][0]\n",
    "sensitivity = TP/float(TP+FN)\n",
    "specificity = TN/float(TN+FP)\n",
    "print(\"Sensitivity : \",sensitivity)\n",
    "print(\"Specificity : \",specificity)"
   ]
  },
  {
   "cell_type": "code",
   "execution_count": 20,
   "metadata": {
    "collapsed": true
   },
   "outputs": [],
   "source": [
    "vote = VotingClassifier(estimators=[('Logistic Regression', LogisticRegression()),\n",
    "                                     ('Naive Bayes', BernoulliNB()),\n",
    "                                    ('DecisionTree', DecisionTreeClassifier()),\n",
    "                                    ('SVM', SVC(kernel='linear', C=5))\n",
    "                                    ], voting='hard')\n",
    "vote_model = vote.fit(train_x_euro,train_y_euro)"
   ]
  },
  {
   "cell_type": "code",
   "execution_count": 21,
   "metadata": {},
   "outputs": [
    {
     "name": "stdout",
     "output_type": "stream",
     "text": [
      "('Training Set Accuracy:', 90.721649484536087)\n",
      "('Voting Classifier Accuracy:', 85.714285714285708)\n"
     ]
    }
   ],
   "source": [
    "print(\"Training Set Accuracy:\", (vote.score(train_x_euro,train_y_euro))*100)\n",
    "vote_predictions = vote_model.predict(test_x_euro)\n",
    "vote_accuracy = accuracy_score(test_y_euro, vote_predictions)\n",
    "print(\"Voting Classifier Accuracy:\" , vote_accuracy*100)"
   ]
  },
  {
   "cell_type": "code",
   "execution_count": 22,
   "metadata": {},
   "outputs": [
    {
     "data": {
      "image/png": "[encoded data removed]",
      "text/plain": [
       "<matplotlib.figure.Figure at 0x1a130fa250>"
      ]
     },
     "metadata": {},
     "output_type": "display_data"
    }
   ],
   "source": [
    "vote_cm = pd.DataFrame(confusion_matrix(test_y_euro, vote_predictions), columns = [0 ,1], index = [0,1])\n",
    "sns.heatmap(vote_cm, annot=True)\n",
    "plt.show()"
   ]
  },
  {
   "cell_type": "code",
   "execution_count": 23,
   "metadata": {},
   "outputs": [
    {
     "name": "stdout",
     "output_type": "stream",
     "text": [
      "('Sensitivity : ', 0.921875)\n",
      "('Specificity : ', 0.79032258064516125)\n"
     ]
    }
   ],
   "source": [
    "TP = vote_cm[1][1]\n",
    "TN = vote_cm[0][0]\n",
    "FP = vote_cm[0][1]\n",
    "FN = vote_cm[1][0]\n",
    "sensitivity = TP/float(TP+FN)\n",
    "specificity = TN/float(TN+FP)\n",
    "print(\"Sensitivity : \",sensitivity)\n",
    "print(\"Specificity : \",specificity)"
   ]
  },
  {
   "cell_type": "code",
   "execution_count": 24,
   "metadata": {},
   "outputs": [
    {
     "data": {
      "text/plain": [
       "{'n_estimators': 50}"
      ]
     },
     "execution_count": 24,
     "metadata": {},
     "output_type": "execute_result"
    }
   ],
   "source": [
    "predictors = [x for x in data_processed_euro.columns if x not in ['target', 'id']]\n",
    "param_test1 = {'n_estimators':range(20,200,10)}\n",
    "gsearch1 = GridSearchCV(estimator = GradientBoostingClassifier(learning_rate=0.1, max_features='sqrt',subsample=0.9), \n",
    "param_grid = param_test1, scoring='roc_auc',n_jobs=4,iid=False, cv=10)\n",
    "gsearch1.fit(train_x_euro,train_y_euro)\n",
    "gsearch1.best_params_"
   ]
  },
  {
   "cell_type": "code",
   "execution_count": 26,
   "metadata": {},
   "outputs": [
    {
     "data": {
      "text/plain": [
       "{'min_samples_leaf': 1}"
      ]
     },
     "execution_count": 26,
     "metadata": {},
     "output_type": "execute_result"
    }
   ],
   "source": [
    "param_test2 = {'min_samples_leaf': range(1,8,1)}\n",
    "gsearch2 = GridSearchCV(estimator = GradientBoostingClassifier(learning_rate=0.1, max_features='sqrt',subsample=0.9), \n",
    "param_grid = param_test2, scoring='roc_auc',n_jobs=4,iid=False, cv=10)\n",
    "gsearch2.fit(train_x_euro,train_y_euro)\n",
    "gsearch2.best_params_"
   ]
  },
  {
   "cell_type": "code",
   "execution_count": null,
   "metadata": {
    "collapsed": true
   },
   "outputs": [],
   "source": []
  }
 ],
 "metadata": {
  "kernelspec": {
   "display_name": "Python 3",
   "language": "python",
   "name": "python3"
  },
  "language_info": {
   "codemirror_mode": {
    "name": "ipython",
    "version": 2
   },
   "file_extension": ".py",
   "mimetype": "text/x-python",
   "name": "python",
   "nbconvert_exporter": "python",
   "pygments_lexer": "ipython2",
   "version": "2.7.14"
  }
 },
 "nbformat": 4,
 "nbformat_minor": 2
}
